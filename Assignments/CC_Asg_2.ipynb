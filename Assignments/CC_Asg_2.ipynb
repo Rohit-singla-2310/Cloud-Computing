{
  "nbformat": 4,
  "nbformat_minor": 2,
  "metadata": {
    "colab": {
      "name": "CC_Asg_2.ipynb",
      "provenance": [],
      "collapsed_sections": []
    },
    "kernelspec": {
      "name": "python3",
      "display_name": "Python 3"
    },
    "language_info": {
      "name": "python"
    }
  },
  "cells": [
    {
      "cell_type": "markdown",
      "source": [
        "# Assignment 2"
      ],
      "metadata": {
        "id": "sWkWeaA6-vGh"
      }
    },
    {
      "cell_type": "markdown",
      "source": [
        "### 1. Write a Python program to test whether a passed letter is a vowel or not.\n"
      ],
      "metadata": {
        "id": "reX4E9s4-0f6"
      }
    },
    {
      "cell_type": "code",
      "execution_count": 3,
      "source": [
        "ch = input('Enter alphabet: ')\r\n",
        "lst = ['a','e','i','o','u','A','E','I','O','U']\r\n",
        "if ch in lst:\r\n",
        "    print('Vowel!')\r\n",
        "else:\r\n",
        "    print('Not a vowel!')"
      ],
      "outputs": [
        {
          "output_type": "stream",
          "name": "stdout",
          "text": [
            "Enter alphabet: E\n",
            "Vowel!\n"
          ]
        }
      ],
      "metadata": {
        "colab": {
          "base_uri": "https://localhost:8080/"
        },
        "id": "4A78RKFb-rh4",
        "outputId": "26012b67-96ed-4c3b-d514-d3035d3d7a43"
      }
    },
    {
      "cell_type": "markdown",
      "source": [
        "### 2. Write a Python program to print out a set containing all the colors from color_list_1 which are not present in color_list_2.\n",
        "color_list_1 = set([\"White\", \"Black\", \"Red\"])\n",
        "color_list_2 = set([\"Red\", \"Green\"])\n"
      ],
      "metadata": {
        "id": "cf2X0550_xqn"
      }
    },
    {
      "cell_type": "code",
      "execution_count": 5,
      "source": [
        "color_lst_1 = set([\"Orange\", \"Blue\", \"Green\"])\r\n",
        "color_lst_2 = set([\"Green\", \"Green\"])\r\n",
        "print(color_lst_1.difference(color_lst_2))"
      ],
      "outputs": [
        {
          "output_type": "stream",
          "name": "stdout",
          "text": [
            "{'Orange', 'Blue'}\n"
          ]
        }
      ],
      "metadata": {
        "colab": {
          "base_uri": "https://localhost:8080/"
        },
        "id": "3M3SjX1V_2ZH",
        "outputId": "2fadb439-6d1f-4eeb-fc67-0c6a646f4a31"
      }
    },
    {
      "cell_type": "markdown",
      "source": [
        "### 3. Write a Python program to solve (x + y) * (x + y).\n"
      ],
      "metadata": {
        "id": "X0hSP87kJIaC"
      }
    },
    {
      "cell_type": "code",
      "execution_count": 6,
      "source": [
        "x = int(input('Enter x '))\r\n",
        "y = int(input('Enter y '))\r\n",
        "z = (x + y)\r\n",
        "print(z*z)"
      ],
      "outputs": [
        {
          "output_type": "stream",
          "name": "stdout",
          "text": [
            "Enter x 3\n",
            "Enter y 2\n",
            "25\n"
          ]
        }
      ],
      "metadata": {
        "colab": {
          "base_uri": "https://localhost:8080/"
        },
        "id": "4i5nzrDNJLNQ",
        "outputId": "0215e34b-2b8b-4672-cf4d-af0e59b9ce0d"
      }
    },
    {
      "cell_type": "markdown",
      "source": [
        "### 4. Write a Python program to calculate the sum of the digits in an integer.\n"
      ],
      "metadata": {
        "id": "LL-QtK3HJVVW"
      }
    },
    {
      "cell_type": "code",
      "execution_count": 1,
      "source": [
        "num = int(input('Enter number: '))\n",
        "sum = 0\n",
        "while num > 0:\n",
        "    digit = num % 10\n",
        "    sum = sum + digit\n",
        "    num = num // 10;\n",
        "print(sum)"
      ],
      "outputs": [
        {
          "output_type": "stream",
          "name": "stdout",
          "text": [
            "Enter number: 369\n",
            "18\n"
          ]
        }
      ],
      "metadata": {
        "colab": {
          "base_uri": "https://localhost:8080/"
        },
        "id": "RUnGfYH6JZVI",
        "outputId": "50180c74-cdf9-4296-b947-43dad9d5768e"
      }
    },
    {
      "cell_type": "markdown",
      "source": [
        "### 5. Write a Python program to calculate the length of a string."
      ],
      "metadata": {
        "id": "Y5lFui0wkVq_"
      }
    },
    {
      "cell_type": "code",
      "execution_count": 2,
      "source": [
        "st = \"Gaurav Baweja\"\n",
        "cnt = 0\n",
        "for ch in st:\n",
        "  cnt += 1\n",
        "print(\"String length: \", cnt)"
      ],
      "outputs": [
        {
          "output_type": "stream",
          "name": "stdout",
          "text": [
            "String length:  13\n"
          ]
        }
      ],
      "metadata": {
        "colab": {
          "base_uri": "https://localhost:8080/"
        },
        "id": "xYwiPwc5kZvE",
        "outputId": "72589137-3b20-45d0-c307-3fd47bafacb3"
      }
    },
    {
      "cell_type": "markdown",
      "source": [
        "### 6. Write a Python program to get a single string from two given strings, separated by a space and swap the first two characters of each string.\n",
        "Sample String : 'abc', 'xyz'\n",
        "Expected Result : 'xyc abz'\n"
      ],
      "metadata": {
        "id": "WeUVM_sUkwFv"
      }
    },
    {
      "cell_type": "code",
      "execution_count": 5,
      "source": [
        "s1 = 'abc'\n",
        "s2 = 'xyz'\n",
        "s3 = s2[:2] + s1[2:] + ' ' + s1[:2] + s2[2:]\n",
        "print(s3)"
      ],
      "outputs": [
        {
          "output_type": "stream",
          "name": "stdout",
          "text": [
            "xyc abz\n"
          ]
        }
      ],
      "metadata": {
        "colab": {
          "base_uri": "https://localhost:8080/"
        },
        "id": "Ququ5COuk1Ak",
        "outputId": "2217dc61-1b3e-487a-df13-2f8eb9fce029"
      }
    },
    {
      "cell_type": "markdown",
      "source": [
        "### 7. Write a Python program to remove the nth index character from a nonempty string.\n"
      ],
      "metadata": {
        "id": "BwHX2QyNlkn-"
      }
    },
    {
      "cell_type": "code",
      "execution_count": 6,
      "source": [
        "def remove_char(st, n):\n",
        "  return st[:n] + st[n+1:]\n",
        "st = \"Gaurav Baweja\"\n",
        "print(remove_char(st, 5))"
      ],
      "outputs": [
        {
          "output_type": "stream",
          "name": "stdout",
          "text": [
            "Gaura Baweja\n"
          ]
        }
      ],
      "metadata": {
        "colab": {
          "base_uri": "https://localhost:8080/"
        },
        "id": "3zuqJue7lolX",
        "outputId": "81fdf194-b1ce-41bb-b225-d01315721588"
      }
    },
    {
      "cell_type": "markdown",
      "source": [
        "### 8. Write a Python script that takes input from the user and displays that input back in upper and lower cases.\n"
      ],
      "metadata": {
        "id": "VPQh_lKvpxHz"
      }
    },
    {
      "cell_type": "code",
      "execution_count": 7,
      "source": [
        "st = input(\"Enter string: \")\n",
        "print(st.upper())\n",
        "print(st.lower())"
      ],
      "outputs": [
        {
          "output_type": "stream",
          "name": "stdout",
          "text": [
            "Enter string: Gaurav Baweja\n",
            "GAURAV BAWEJA\n",
            "gaurav baweja\n"
          ]
        }
      ],
      "metadata": {
        "colab": {
          "base_uri": "https://localhost:8080/"
        },
        "id": "SRd7ITubp1js",
        "outputId": "bfe55a5d-29c3-4b39-bc42-d8588125869f"
      }
    },
    {
      "cell_type": "markdown",
      "source": [
        "### 9. Write a Python function to insert a string in the middle of a string.\n"
      ],
      "metadata": {
        "id": "ofB-We6IqTO0"
      }
    },
    {
      "cell_type": "code",
      "execution_count": 8,
      "source": [
        "def insert_st(st1, st2, n):\n",
        "  return st1[:n] + st2 + ' ' + st1[n:]\n",
        "st = \"Gaurav is a programmer!\"\n",
        "print(insert_st(st,\"Baweja\", 7))\n"
      ],
      "outputs": [
        {
          "output_type": "stream",
          "name": "stdout",
          "text": [
            "Gaurav Baweja is a programmer!\n"
          ]
        }
      ],
      "metadata": {
        "colab": {
          "base_uri": "https://localhost:8080/"
        },
        "id": "rqvStm4UqWLO",
        "outputId": "d2fd36ea-fb54-42b6-934f-2a3b729c6e33"
      }
    },
    {
      "cell_type": "markdown",
      "source": [
        "### 10.Write a Python program to print the floating numbers upto 2 decimal places with a sign."
      ],
      "metadata": {
        "id": "kd1rgIy5suFi"
      }
    },
    {
      "cell_type": "code",
      "execution_count": 14,
      "source": [
        "x = 6.27315\n",
        "y = -7.984312\n",
        "print (\" %+.2f\" % (x))\n",
        "print (\" %+.2f\" % (y))\n",
        "\n"
      ],
      "outputs": [
        {
          "output_type": "stream",
          "name": "stdout",
          "text": [
            " +6.27\n",
            " -7.98\n"
          ]
        }
      ],
      "metadata": {
        "colab": {
          "base_uri": "https://localhost:8080/"
        },
        "id": "JVnBytiqsy2y",
        "outputId": "50f1f776-ce3f-4e8c-d029-5e09ed35e6c3"
      }
    }
  ]
}