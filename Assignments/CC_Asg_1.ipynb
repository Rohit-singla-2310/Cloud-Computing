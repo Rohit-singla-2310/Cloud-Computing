{
  "nbformat": 4,
  "nbformat_minor": 0,
  "metadata": {
    "colab": {
      "name": "CC_Asg_1.ipynb",
      "provenance": []
    },
    "kernelspec": {
      "name": "python3",
      "display_name": "Python 3"
    },
    "language_info": {
      "name": "python"
    }
  },
  "cells": [
    {
      "cell_type": "markdown",
      "metadata": {
        "id": "fCnJsu2HxJjl"
      },
      "source": [
        "# **Assignment 1**"
      ]
    },
    {
      "cell_type": "markdown",
      "metadata": {
        "id": "eDdE4BRUxWIp"
      },
      "source": [
        "### 1. Write a Python program to print the following string in a specific format (see\n",
        "the output). Twinkle, twinkle, little star,\n",
        " How I wonder what you are!\n",
        " Up above the world so high,\n",
        " Like a diamond in the sky.\n",
        "Twinkle, twinkle, little star,\n",
        " How I wonder what you are \n"
      ]
    },
    {
      "cell_type": "code",
      "metadata": {
        "colab": {
          "base_uri": "https://localhost:8080/"
        },
        "id": "F08A0BvtxC3P",
        "outputId": "b7bed225-8077-4aef-9cc5-1c24ec5c9dd5"
      },
      "source": [
        "print('Twinkle, twinkle, little star,\\nHow I wonder what you are! \\nUp above the world so high,\\nLike a diamond in the sky.\\nTwinkle, twinkle, little star,\\nHow I wonder what you are')\n"
      ],
      "execution_count": 1,
      "outputs": [
        {
          "output_type": "stream",
          "name": "stdout",
          "text": [
            "Twinkle, twinkle, little star,\n",
            "How I wonder what you are! \n",
            "Up above the world so high,\n",
            "Like a diamond in the sky.\n",
            "Twinkle, twinkle, little star,\n",
            "How I wonder what you are\n"
          ]
        }
      ]
    },
    {
      "cell_type": "markdown",
      "metadata": {
        "id": "R0z9IF_WxojQ"
      },
      "source": [
        "### 2. Write a Python program to display the current date and time.\n"
      ]
    },
    {
      "cell_type": "code",
      "metadata": {
        "colab": {
          "base_uri": "https://localhost:8080/"
        },
        "id": "MergSxkXx8a3",
        "outputId": "9b66a11e-8b25-4c58-af02-8887b6840f37"
      },
      "source": [
        "import datetime\n",
        "now = datetime.datetime.now()\n",
        "print(now.strftime(\"%d-%m-%Y %H:%M:%S\"))"
      ],
      "execution_count": 11,
      "outputs": [
        {
          "output_type": "stream",
          "name": "stdout",
          "text": [
            "05-09-2021 16:28:56\n"
          ]
        }
      ]
    },
    {
      "cell_type": "markdown",
      "metadata": {
        "id": "icnwwHkmyNYq"
      },
      "source": [
        "### 3. Write a Python program which accepts the radius of a circle from the user and compute the area.\n"
      ]
    },
    {
      "cell_type": "code",
      "metadata": {
        "colab": {
          "base_uri": "https://localhost:8080/"
        },
        "id": "MJ-JKLHMyuFl",
        "outputId": "51ab3631-0298-4fcf-9723-11f30ddcac98"
      },
      "source": [
        "import math\n",
        "r = input('enter radius ')\n",
        "r = float(r)\n",
        "pi = math.pi\n",
        "area = (pi*r*r)\n",
        "print(area)"
      ],
      "execution_count": 13,
      "outputs": [
        {
          "output_type": "stream",
          "name": "stdout",
          "text": [
            "enter radius 2\n",
            "12.566370614359172\n"
          ]
        }
      ]
    },
    {
      "cell_type": "markdown",
      "metadata": {
        "id": "lwiS-Ez5zDxn"
      },
      "source": [
        "### 4. Write a Python program which accepts the user's first and last name and print them in reverse order with a space between them.\n"
      ]
    },
    {
      "cell_type": "code",
      "metadata": {
        "colab": {
          "base_uri": "https://localhost:8080/"
        },
        "id": "RCkXqIgXzIDl",
        "outputId": "efc6ceb9-b405-4f2a-be12-ff86a9df424e"
      },
      "source": [
        "fname = input('First name: ')\n",
        "lname =input('Last name: ')\n",
        "frev = fname[::-1]\n",
        "lrev = lname[::-1]\n",
        "final = frev + ' ' + lrev\n",
        "print(final)"
      ],
      "execution_count": 15,
      "outputs": [
        {
          "output_type": "stream",
          "name": "stdout",
          "text": [
            "First name: Gaurav\n",
            "Last name: Baweja\n",
            "varuaG ajewaB\n"
          ]
        }
      ]
    },
    {
      "cell_type": "markdown",
      "metadata": {
        "id": "D7ggoCA7zjnP"
      },
      "source": [
        "### 5. Write a Python program to accept a filename from the user and print the extension of that"
      ]
    },
    {
      "cell_type": "code",
      "metadata": {
        "colab": {
          "base_uri": "https://localhost:8080/"
        },
        "id": "f7hfHGouznbC",
        "outputId": "ccb35f07-0b17-4a14-c490-b9380c08bc9a"
      },
      "source": [
        " filename = input(\"File name: \")\n",
        " ext = filename.split('.')[1]\n",
        " print(\"File Extention: \", ext)"
      ],
      "execution_count": 17,
      "outputs": [
        {
          "output_type": "stream",
          "name": "stdout",
          "text": [
            "File name: input.txt\n",
            "File Extention:  txt\n"
          ]
        }
      ]
    },
    {
      "cell_type": "markdown",
      "metadata": {
        "id": "Z7LRIh-D4ZKo"
      },
      "source": [
        "### 6. Write a Python program to display the first and last colors from a list.\n"
      ]
    },
    {
      "cell_type": "code",
      "metadata": {
        "colab": {
          "base_uri": "https://localhost:8080/"
        },
        "id": "n9kxW8Hu4gpZ",
        "outputId": "d7ab26ef-47dc-4648-e821-22f9e252c1ec"
      },
      "source": [
        "colors = ['red', 'yellow', 'blue', 'pink', 'green', 'blue']\n",
        "print(\"First color: \", colors[0])\n",
        "print(\"Last color: \", colors[-1])"
      ],
      "execution_count": 18,
      "outputs": [
        {
          "output_type": "stream",
          "name": "stdout",
          "text": [
            "First color:  red\n",
            "Last color:  blue\n"
          ]
        }
      ]
    },
    {
      "cell_type": "markdown",
      "metadata": {
        "id": "0WZJIYn9475J"
      },
      "source": [
        "### 7. Write a Python program that accepts an integer (n) and computes the value of n+nn+nnn.\n"
      ]
    },
    {
      "cell_type": "code",
      "metadata": {
        "colab": {
          "base_uri": "https://localhost:8080/"
        },
        "id": "bZnLfgtT4_2v",
        "outputId": "27b76c86-aed5-4161-8b14-0230c5b89617"
      },
      "source": [
        "n = int(input('Enter integer: '))\n",
        "res = n + (n*n) + (n*n*n)\n",
        "print(res)"
      ],
      "execution_count": 19,
      "outputs": [
        {
          "output_type": "stream",
          "name": "stdout",
          "text": [
            "Enter integer: 2\n",
            "14\n"
          ]
        }
      ]
    },
    {
      "cell_type": "markdown",
      "metadata": {
        "id": "gTMu0j6V5M8c"
      },
      "source": [
        "### 8. Write a Python program to test whether a number is within 100 of 1000 or 2000.\n"
      ]
    },
    {
      "cell_type": "code",
      "metadata": {
        "colab": {
          "base_uri": "https://localhost:8080/"
        },
        "id": "kIK6Cs6F5SHX",
        "outputId": "58372216-9942-4561-9213-b19d8ffdf8df"
      },
      "source": [
        "def near_thousand(num):\n",
        "    return ( (abs(1000 - num) <= 100 or abs(2000-num) <=100))\n",
        "num = int(input(\"Enter number: \"))\n",
        "print(near_thousand(num))"
      ],
      "execution_count": 23,
      "outputs": [
        {
          "output_type": "stream",
          "name": "stdout",
          "text": [
            "Enter number: 1100\n",
            "True\n"
          ]
        }
      ]
    },
    {
      "cell_type": "markdown",
      "metadata": {
        "id": "4PnSy8rP6Jqr"
      },
      "source": [
        "### 9. Write a Python program to find whether a given number (accept from the user) is even or odd, print out an appropriate message to the user"
      ]
    },
    {
      "cell_type": "code",
      "metadata": {
        "colab": {
          "base_uri": "https://localhost:8080/"
        },
        "id": "pdUGHuBd6NlX",
        "outputId": "f0cb8253-d9eb-400e-f979-91fd35203604"
      },
      "source": [
        " n = int(input('Enter number: '))\n",
        "if(n%2 == 0):\n",
        "    print('Even')\n",
        "else:\n",
        "    print('Odd')"
      ],
      "execution_count": 25,
      "outputs": [
        {
          "output_type": "stream",
          "name": "stdout",
          "text": [
            "Enter number: 7\n",
            "Odd\n"
          ]
        }
      ]
    },
    {
      "cell_type": "markdown",
      "metadata": {
        "id": "xFz4tpXR93HM"
      },
      "source": [
        "### 10.Write a Python program to count the number 4 in a given list.\n"
      ]
    },
    {
      "cell_type": "code",
      "metadata": {
        "colab": {
          "base_uri": "https://localhost:8080/"
        },
        "id": "d9z8izMM-AX8",
        "outputId": "023d9226-ba99-4c87-c9d0-0d3ea8d7b9f2"
      },
      "source": [
        "lst = [1, 4, 3, 4, 6, 4, 5, 8, 4, 7, 9, 4]\n",
        "cnt = 0\n",
        "for num in lst:\n",
        "  if(num == 4):\n",
        "    cnt += 1\n",
        "print(\"'4' count in list: \", cnt)"
      ],
      "execution_count": 27,
      "outputs": [
        {
          "output_type": "stream",
          "name": "stdout",
          "text": [
            "'4' count in list:  5\n"
          ]
        }
      ]
    }
  ]
}